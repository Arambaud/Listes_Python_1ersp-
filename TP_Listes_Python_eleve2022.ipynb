{
 "cells": [
  {
   "cell_type": "markdown",
   "metadata": {},
   "source": [
    "# <center> TP sur les Listes en Python </center>"
   ]
  },
  {
   "cell_type": "markdown",
   "metadata": {},
   "source": [
    "## 1. Découverte des listes"
   ]
  },
  {
   "cell_type": "markdown",
   "metadata": {},
   "source": [
    "Une liste en python se note entre crochet exemple liste = [2,4,5,6,7], on dira que cette liste est définie en extension. Une liste vide se note liste_vide = []"
   ]
  },
  {
   "cell_type": "markdown",
   "metadata": {},
   "source": [
    "1) Commençons par créer une liste que nous appellerons L. \n",
    "Cliquer sur la cellule ci-dessous puis cliquer sur <strong>Run (ou Exécuter)</strong> dans le menu en haut de la page. La liste L devrait s'afficher en dessous de la cellule."
   ]
  },
  {
   "cell_type": "code",
   "execution_count": null,
   "metadata": {},
   "outputs": [],
   "source": [
    "L =[8,3,11,7] #Création de la liste L\n",
    "print(L) #affichage de la liste L"
   ]
  },
  {
   "cell_type": "markdown",
   "metadata": {},
   "source": [
    "2) Dans la cellule ci-dessous, taper L[1] et exécuter la cellule en cliquant sur <strong>Run (ou Exécuter)</strong>."
   ]
  },
  {
   "cell_type": "code",
   "execution_count": null,
   "metadata": {},
   "outputs": [],
   "source": [
    "L[1]"
   ]
  },
  {
   "cell_type": "markdown",
   "metadata": {},
   "source": [
    "<u>Remarque</u> : En python les indices des listes commence à zéro"
   ]
  },
  {
   "cell_type": "markdown",
   "metadata": {},
   "source": [
    "3) Les listes jour et mois ont été crées comme ci-dessous.Excécuter la cellule suivante en cliquant sur <strong>Run (ou Exécuter)</strong>"
   ]
  },
  {
   "cell_type": "code",
   "execution_count": null,
   "metadata": {
    "scrolled": true
   },
   "outputs": [],
   "source": [
    "jour = [\"lundi\",\"mardi\" ,\"mercredi\" ,\"jeudi\" ,\"vendredi\" ,\"samedi\"]\n",
    "mois = [\"janvier\", \"mars\",\"avril\",\"mai\",\"juin\",\"juillet\",\"aout\",\"septembre\",\"octobre\",\"novembre\",\"decembre\"]\n"
   ]
  },
  {
   "cell_type": "markdown",
   "metadata": {},
   "source": [
    "4) Il faut ajouter \"dimanche\" dans la liste jour pour ce faire taper dans la cellule suivante jour.append(\"dimanche\") au-dessus de print(jout) et exécuter la cellule."
   ]
  },
  {
   "cell_type": "code",
   "execution_count": null,
   "metadata": {},
   "outputs": [],
   "source": [
    "#Effacer cette phrase et écrire jour.append('dimanche') ici\n",
    "print(jour)"
   ]
  },
  {
   "cell_type": "markdown",
   "metadata": {},
   "source": [
    "5) Tapez dans la cellule suivante len(jour) et exécuter la cellule. Que fait la fonction len?"
   ]
  },
  {
   "cell_type": "code",
   "execution_count": null,
   "metadata": {},
   "outputs": [],
   "source": []
  },
  {
   "cell_type": "markdown",
   "metadata": {},
   "source": [
    "6) Dans la cellule ci-dessous on définit deux listes C et D, donner les valeur s de m ,k et v (vérifier vos réponses en modifiant le script en affichant les valeurs de m,k et v à l'aide de print et en executant la cellule)"
   ]
  },
  {
   "cell_type": "code",
   "execution_count": null,
   "metadata": {},
   "outputs": [],
   "source": [
    "C = [4 ,\"p\" , 7, 1, \"i\", 5, 9]\n",
    "D = [5 , 8, 'bob', 6, 3]\n",
    "m = C[0] + C[3]\n",
    "k = C[1] + C[4]\n",
    "v = C + D\n"
   ]
  },
  {
   "cell_type": "markdown",
   "metadata": {},
   "source": [
    "7) Soit la liste K = [1, 8, \"a\", \"b\", 8], que devient K après l’instruction K.remove(1) ? (Le faire à la main puis le tester dans la cellule suivante)"
   ]
  },
  {
   "cell_type": "code",
   "execution_count": null,
   "metadata": {},
   "outputs": [],
   "source": [
    "K = [1, 8, \"a\" ,\"b\", 8]\n"
   ]
  },
  {
   "cell_type": "markdown",
   "metadata": {},
   "source": [
    "8) Soit la liste U = [1, 8, \"a\", \"b\", 8], que devient U après l’instruction U.remove(8) ?(Le faire à la main puis le tester dans la cellule suivante)"
   ]
  },
  {
   "cell_type": "code",
   "execution_count": null,
   "metadata": {},
   "outputs": [],
   "source": [
    "U = [1, 8, \"a\", \"b\", 8]\n"
   ]
  },
  {
   "cell_type": "markdown",
   "metadata": {},
   "source": [
    "9) Soit la liste Z = [1, 8, \"a\", \"b\", 8], que devient Z après l’instruction Z.pop(2) ? (Le faire à la main puis le tester dans la cellule suivante)"
   ]
  },
  {
   "cell_type": "code",
   "execution_count": null,
   "metadata": {},
   "outputs": [],
   "source": [
    "Z = [1, 8, \"a\", \"b\", 8]\n"
   ]
  },
  {
   "cell_type": "markdown",
   "metadata": {},
   "source": [
    "## 2) PARCOURS ITERATIF et MODE DE GENERATION D'UNE LISTE"
   ]
  },
  {
   "cell_type": "markdown",
   "metadata": {},
   "source": [
    "Dans cette partie nous allons voir comment générer une liste de différentes façons et comment la parcourir"
   ]
  },
  {
   "cell_type": "markdown",
   "metadata": {},
   "source": [
    "1) Le script ci-dessous crée trois listes (liste1,liste2,liste3) contenant les 10 premiers entiers naturels de trois façons différentes. Exéctuter la cellule suivante en essayant de comprendre comment se \"construisent\" ces listes. \n"
   ]
  },
  {
   "cell_type": "code",
   "execution_count": null,
   "metadata": {},
   "outputs": [],
   "source": [
    "liste1 = list(range(0,10))   #On aurait pu écrire range(10) au lieu de range(0,10)\n",
    "print(\"Liste 1 = \",liste1)\n",
    "\n",
    "liste2 =[i for i in range(10)] #Ce 'type' de liste s'appelle une liste définie en compréhension\n",
    "print(\"Liste 2 = \",liste2)\n",
    "\n",
    "liste3 = []\n",
    "for k in range(10):\n",
    "    liste3.append(k)\n",
    "print(\"Liste 3 = \",liste3)\n"
   ]
  },
  {
   "cell_type": "markdown",
   "metadata": {},
   "source": [
    "2) Modifier le script précédent copié dans cellule ci-dessous pour que :\n",
    "* la liste1 soit composée de la liste des entiers de 5 à 45 (inclus)\n",
    "* la liste2 soit composée des 100 premiers entiers pairs\n",
    "* la liste3 soit composée des 50 premier entier impairs\n"
   ]
  },
  {
   "cell_type": "code",
   "execution_count": null,
   "metadata": {},
   "outputs": [],
   "source": [
    "#Modifier le script suivant\n",
    "\n",
    "liste1 = list(range(0,10))\n",
    "print(\"Liste 1 = \",liste1)\n",
    "\n",
    "liste2 =[i for i in range(10)]\n",
    "print(\"Liste 2 = \",liste2)\n",
    "\n",
    "liste3 = []\n",
    "for k in range(10):\n",
    "    liste3.append(k)\n",
    "print(\"Liste 3 = \",liste3)"
   ]
  },
  {
   "cell_type": "markdown",
   "metadata": {},
   "source": [
    "### Exercice 1 : \n",
    "1) Soit la liste définie de la façon suivante  M = [2*x for x in range(35) if x%5 == 0]\n",
    "Ecrire en extension (toute les valeurs) la liste M.\n",
    "(Le faire dans un premier temps à la main puis verifier votre réponse dans la cellule ci-dessous)\n",
    "\n"
   ]
  },
  {
   "cell_type": "code",
   "execution_count": null,
   "metadata": {},
   "outputs": [],
   "source": [
    "#Vérifier la liste ici"
   ]
  },
  {
   "cell_type": "markdown",
   "metadata": {},
   "source": [
    "2) Soit les listes E et F définies par le script Python ci-dessous. Ecrire en extention la liste F.(Le faire dans un premier temps à la main puis verifier votre réponse en affichant la valeur de F dans la cellule ci-dessous)"
   ]
  },
  {
   "cell_type": "code",
   "execution_count": null,
   "metadata": {
    "scrolled": true
   },
   "outputs": [],
   "source": [
    "E = [2, 4, 6, 8, 10, 12, 14, 16, 18]\n",
    "F = []\n",
    "for p in E:\n",
    "    F.append(p+1)\n"
   ]
  },
  {
   "cell_type": "markdown",
   "metadata": {},
   "source": [
    "### Exercice 2 :\n",
    "Soit les listes V et W définies par le script Python ci-dessous. Ecrire en extention la liste W. (Le faire dans un premier temps à la main puis verifier votre réponse dans la cellule ci-dessous)\n"
   ]
  },
  {
   "cell_type": "code",
   "execution_count": null,
   "metadata": {},
   "outputs": [],
   "source": [
    "V = [2,7,5]\n",
    "W = []\n",
    "for i in range(len(V)):\n",
    "    W.append(i*V[i])\n"
   ]
  },
  {
   "cell_type": "markdown",
   "metadata": {},
   "source": [
    "### Exercice 3 : Avec un problème\n",
    "En 2018, une étude menée dans une ville a montré que la consommation d’eau par an et par habitant s’élevait à 50$ m^{3} $. On suppose que, dans les années qui suivront, cette consommation baissera de 2% par an.<br>\n",
    "1)Montrer que la consommation d’eau prévisible en 2019 est de 49 $ m^{3} $."
   ]
  },
  {
   "cell_type": "markdown",
   "metadata": {},
   "source": [
    "2) Compléter la fonction Python ci-dessous afin de retourner la liste des consommations d’eau au cours des années suivantes jusqu’à ce que cette consommation devienne inférieure à la valeur s, exprimée en $ m^{3} $. Ecrire ce qui manque à la place de <strong>pass</strong> puis tester votre réponse."
   ]
  },
  {
   "cell_type": "code",
   "execution_count": null,
   "metadata": {},
   "outputs": [],
   "source": [
    "# Enlever pass et écrire la ligne de code qui convient pour répondre au problème\n",
    "def conso(s):\n",
    "    c = 50\n",
    "    L = []\n",
    "    while c >= s :\n",
    "         pass \n",
    "    return L \n"
   ]
  },
  {
   "cell_type": "markdown",
   "metadata": {},
   "source": [
    "### Exercice 4 : Lien avec les suites avec aide\n",
    "Soit $ (v_{n}) $ une suite définie par $ v_{0} = 2 $ et pour tout entier naturel $ n $ par $ v_{n+1}= 2v_{n}+ 3 $. <br>\n",
    "1) Le script Python ci-dessous renvoie la liste des 5 premiers termes de la suite $ v_{n} $. Exécuter-le."
   ]
  },
  {
   "cell_type": "code",
   "execution_count": null,
   "metadata": {},
   "outputs": [],
   "source": [
    "v = 2 \n",
    "L =[] \n",
    "for i in range(5):\n",
    "    v = 2 * v + 3\n",
    "    L.append(v)\n",
    "print(L)"
   ]
  },
  {
   "cell_type": "markdown",
   "metadata": {},
   "source": [
    "2) Ecrire un script Python qui renvoie la liste des 10 premiers termes de la suite $ v_{n} $. Vous pouvez le tester ci-dessous."
   ]
  },
  {
   "cell_type": "code",
   "execution_count": null,
   "metadata": {},
   "outputs": [],
   "source": []
  },
  {
   "cell_type": "markdown",
   "metadata": {},
   "source": [
    "3) Le script Python ci-dessous renvoie $ v_{15} $. Exécuter-le. Quelle est la valeur de $ v_{15} $?"
   ]
  },
  {
   "cell_type": "code",
   "execution_count": null,
   "metadata": {},
   "outputs": [],
   "source": [
    "v = 2  \n",
    "for i in range(16):\n",
    "    v = 2 * v + 3\n",
    "print(v)"
   ]
  },
  {
   "cell_type": "markdown",
   "metadata": {},
   "source": [
    "4) Ecrire un script Python qui renvoie $ v_{20} $. Vous pouvez le tester ci-dessous. Quelle est la valeur de $ v_{20} $?"
   ]
  },
  {
   "cell_type": "code",
   "execution_count": null,
   "metadata": {},
   "outputs": [],
   "source": []
  },
  {
   "cell_type": "markdown",
   "metadata": {},
   "source": [
    "### Exercice 5 : Lien avec les suites sans aide\n",
    "Soit $ (u_{n}) $ une suite définie par $ u_{0} = 4 $ et pour tout entier naturel $ n $ par $ u_{n+1}=3u_{n}-5 $. <br>\n",
    "1) Ecrire un script Python qui renvoie la liste des 10 premiers termes de la suite $ u_{n} $. Vous pouvez le tester ci-dessous."
   ]
  },
  {
   "cell_type": "code",
   "execution_count": null,
   "metadata": {},
   "outputs": [],
   "source": []
  },
  {
   "cell_type": "markdown",
   "metadata": {},
   "source": [
    "2) Ecrire un script Python qui renvoie $ u_{25} $. Vous pouvez le tester ci-dessous."
   ]
  },
  {
   "cell_type": "code",
   "execution_count": null,
   "metadata": {},
   "outputs": [],
   "source": []
  },
  {
   "cell_type": "markdown",
   "metadata": {},
   "source": [
    "### Exercice 6 :\n",
    "Soit $ (u_{n}) $ une suite définie par récurrence à l'aide du le script suivant:"
   ]
  },
  {
   "cell_type": "code",
   "execution_count": null,
   "metadata": {},
   "outputs": [],
   "source": [
    "u = 2\n",
    "for i in range(5):\n",
    "    u = 5 * u - 3\n"
   ]
  },
  {
   "cell_type": "markdown",
   "metadata": {},
   "source": [
    "1) Quel terme le script ci-dessus permet-il de calculer? (Vérifier votre réponse en exécutant le script précédent, sans oublier d'afficher la valeur de u) "
   ]
  },
  {
   "cell_type": "markdown",
   "metadata": {},
   "source": [
    "2) Modifier le script ci-dessus pour qu'il affiche $ (u_{7}) $. Le faire dans la cellule suivante."
   ]
  },
  {
   "cell_type": "code",
   "execution_count": 1,
   "metadata": {},
   "outputs": [],
   "source": [
    "#Script à modifier\n",
    "\n",
    "u = 2\n",
    "for i in range(5):\n",
    "    u = 5 * u - 3\n"
   ]
  },
  {
   "cell_type": "markdown",
   "metadata": {},
   "source": [
    "Faire les exercices du livre : \n",
    "* 59 page87\n",
    "* 63, 64, 67, 73 page 88 \n",
    "* 101 page 91\n",
    "* Sujet D pafe 99 \n",
    "Vous pouvez créer des cellules Python en cliquant sur l'icône + dans le menu en haut de la page."
   ]
  }
 ],
 "metadata": {
  "kernelspec": {
   "display_name": "Python 3",
   "language": "python",
   "name": "python3"
  },
  "language_info": {
   "codemirror_mode": {
    "name": "ipython",
    "version": 3
   },
   "file_extension": ".py",
   "mimetype": "text/x-python",
   "name": "python",
   "nbconvert_exporter": "python",
   "pygments_lexer": "ipython3",
   "version": "3.8.5"
  }
 },
 "nbformat": 4,
 "nbformat_minor": 4
}
